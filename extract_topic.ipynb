{
 "cells": [
  {
   "cell_type": "code",
   "execution_count": 1,
   "metadata": {},
   "outputs": [
    {
     "name": "stdout",
     "output_type": "stream",
     "text": [
      "Requirement already satisfied: gensim in c:\\users\\admin\\anaconda3\\lib\\site-packages (4.3.0)\n",
      "Collecting gensim\n",
      "  Downloading gensim-4.3.2-cp310-cp310-win_amd64.whl (24.0 MB)\n",
      "     ---------------------------------------- 24.0/24.0 MB 1.1 MB/s eta 0:00:00\n",
      "Requirement already satisfied: smart-open>=1.8.1 in c:\\users\\admin\\anaconda3\\lib\\site-packages (from gensim) (5.2.1)\n",
      "Requirement already satisfied: numpy>=1.18.5 in c:\\users\\admin\\anaconda3\\lib\\site-packages (from gensim) (1.23.5)\n",
      "Requirement already satisfied: scipy>=1.7.0 in c:\\users\\admin\\anaconda3\\lib\\site-packages (from gensim) (1.10.0)\n",
      "Installing collected packages: gensim\n",
      "  Attempting uninstall: gensim\n",
      "    Found existing installation: gensim 4.3.0\n",
      "    Uninstalling gensim-4.3.0:\n",
      "      Successfully uninstalled gensim-4.3.0\n",
      "Successfully installed gensim-4.3.2\n",
      "Note: you may need to restart the kernel to use updated packages.\n"
     ]
    }
   ],
   "source": [
    "%pip install --upgrade gensim"
   ]
  },
  {
   "cell_type": "code",
   "execution_count": 2,
   "metadata": {},
   "outputs": [],
   "source": [
    "import pandas as pd\n",
    "import numpy as np\n",
    "import re"
   ]
  },
  {
   "cell_type": "code",
   "execution_count": 17,
   "metadata": {},
   "outputs": [
    {
     "data": {
      "text/html": [
       "<div>\n",
       "<style scoped>\n",
       "    .dataframe tbody tr th:only-of-type {\n",
       "        vertical-align: middle;\n",
       "    }\n",
       "\n",
       "    .dataframe tbody tr th {\n",
       "        vertical-align: top;\n",
       "    }\n",
       "\n",
       "    .dataframe thead th {\n",
       "        text-align: right;\n",
       "    }\n",
       "</style>\n",
       "<table border=\"1\" class=\"dataframe\">\n",
       "  <thead>\n",
       "    <tr style=\"text-align: right;\">\n",
       "      <th></th>\n",
       "      <th>Sr No.</th>\n",
       "      <th>Utterance</th>\n",
       "      <th>Speaker</th>\n",
       "      <th>Emotion</th>\n",
       "      <th>Sentiment</th>\n",
       "      <th>Dialogue_ID</th>\n",
       "      <th>Utterance_ID</th>\n",
       "      <th>Season</th>\n",
       "      <th>Episode</th>\n",
       "      <th>StartTime</th>\n",
       "      <th>EndTime</th>\n",
       "    </tr>\n",
       "  </thead>\n",
       "  <tbody>\n",
       "    <tr>\n",
       "      <th>0</th>\n",
       "      <td>1</td>\n",
       "      <td>also I was the point person on my companys tra...</td>\n",
       "      <td>Chandler</td>\n",
       "      <td>neutral</td>\n",
       "      <td>neutral</td>\n",
       "      <td>0</td>\n",
       "      <td>0</td>\n",
       "      <td>8</td>\n",
       "      <td>21</td>\n",
       "      <td>00:16:16,059</td>\n",
       "      <td>00:16:21,731</td>\n",
       "    </tr>\n",
       "    <tr>\n",
       "      <th>1</th>\n",
       "      <td>2</td>\n",
       "      <td>You mustve had your hands full.</td>\n",
       "      <td>The Interviewer</td>\n",
       "      <td>neutral</td>\n",
       "      <td>neutral</td>\n",
       "      <td>0</td>\n",
       "      <td>1</td>\n",
       "      <td>8</td>\n",
       "      <td>21</td>\n",
       "      <td>00:16:21,940</td>\n",
       "      <td>00:16:23,442</td>\n",
       "    </tr>\n",
       "    <tr>\n",
       "      <th>2</th>\n",
       "      <td>3</td>\n",
       "      <td>That I did. That I did.</td>\n",
       "      <td>Chandler</td>\n",
       "      <td>neutral</td>\n",
       "      <td>neutral</td>\n",
       "      <td>0</td>\n",
       "      <td>2</td>\n",
       "      <td>8</td>\n",
       "      <td>21</td>\n",
       "      <td>00:16:23,442</td>\n",
       "      <td>00:16:26,389</td>\n",
       "    </tr>\n",
       "    <tr>\n",
       "      <th>3</th>\n",
       "      <td>4</td>\n",
       "      <td>So lets talk a little bit about your duties.</td>\n",
       "      <td>The Interviewer</td>\n",
       "      <td>neutral</td>\n",
       "      <td>neutral</td>\n",
       "      <td>0</td>\n",
       "      <td>3</td>\n",
       "      <td>8</td>\n",
       "      <td>21</td>\n",
       "      <td>00:16:26,820</td>\n",
       "      <td>00:16:29,572</td>\n",
       "    </tr>\n",
       "    <tr>\n",
       "      <th>4</th>\n",
       "      <td>5</td>\n",
       "      <td>My duties?  All right.</td>\n",
       "      <td>Chandler</td>\n",
       "      <td>surprise</td>\n",
       "      <td>positive</td>\n",
       "      <td>0</td>\n",
       "      <td>4</td>\n",
       "      <td>8</td>\n",
       "      <td>21</td>\n",
       "      <td>00:16:34,452</td>\n",
       "      <td>00:16:40,917</td>\n",
       "    </tr>\n",
       "    <tr>\n",
       "      <th>...</th>\n",
       "      <td>...</td>\n",
       "      <td>...</td>\n",
       "      <td>...</td>\n",
       "      <td>...</td>\n",
       "      <td>...</td>\n",
       "      <td>...</td>\n",
       "      <td>...</td>\n",
       "      <td>...</td>\n",
       "      <td>...</td>\n",
       "      <td>...</td>\n",
       "      <td>...</td>\n",
       "    </tr>\n",
       "    <tr>\n",
       "      <th>13703</th>\n",
       "      <td>2760</td>\n",
       "      <td>Yeah, I mean, come on Ross, no one will even n...</td>\n",
       "      <td>Rachel</td>\n",
       "      <td>neutral</td>\n",
       "      <td>neutral</td>\n",
       "      <td>279</td>\n",
       "      <td>11</td>\n",
       "      <td>6</td>\n",
       "      <td>4</td>\n",
       "      <td>00:14:35,457</td>\n",
       "      <td>00:14:40,211</td>\n",
       "    </tr>\n",
       "    <tr>\n",
       "      <th>13704</th>\n",
       "      <td>2761</td>\n",
       "      <td>They’re not listening too me?</td>\n",
       "      <td>Ross</td>\n",
       "      <td>surprise</td>\n",
       "      <td>negative</td>\n",
       "      <td>279</td>\n",
       "      <td>12</td>\n",
       "      <td>6</td>\n",
       "      <td>4</td>\n",
       "      <td>00:14:42,256</td>\n",
       "      <td>00:14:43,840</td>\n",
       "    </tr>\n",
       "    <tr>\n",
       "      <th>13705</th>\n",
       "      <td>2762</td>\n",
       "      <td>Of course they’re listening to you! Everybody ...</td>\n",
       "      <td>Rachel</td>\n",
       "      <td>neutral</td>\n",
       "      <td>neutral</td>\n",
       "      <td>279</td>\n",
       "      <td>13</td>\n",
       "      <td>6</td>\n",
       "      <td>4</td>\n",
       "      <td>00:14:44,008</td>\n",
       "      <td>00:14:48,511</td>\n",
       "    </tr>\n",
       "    <tr>\n",
       "      <th>13706</th>\n",
       "      <td>2763</td>\n",
       "      <td>Monica you really think I should try this phas...</td>\n",
       "      <td>Ross</td>\n",
       "      <td>neutral</td>\n",
       "      <td>neutral</td>\n",
       "      <td>279</td>\n",
       "      <td>14</td>\n",
       "      <td>6</td>\n",
       "      <td>4</td>\n",
       "      <td>00:14:48,138</td>\n",
       "      <td>00:14:52,390</td>\n",
       "    </tr>\n",
       "    <tr>\n",
       "      <th>13707</th>\n",
       "      <td>2764</td>\n",
       "      <td>I think you look fine.</td>\n",
       "      <td>Monica</td>\n",
       "      <td>neutral</td>\n",
       "      <td>neutral</td>\n",
       "      <td>279</td>\n",
       "      <td>15</td>\n",
       "      <td>6</td>\n",
       "      <td>4</td>\n",
       "      <td>00:14:52,558</td>\n",
       "      <td>00:14:54,183</td>\n",
       "    </tr>\n",
       "  </tbody>\n",
       "</table>\n",
       "<p>13708 rows × 11 columns</p>\n",
       "</div>"
      ],
      "text/plain": [
       "       Sr No.                                          Utterance  \\\n",
       "0           1  also I was the point person on my companys tra...   \n",
       "1           2                    You mustve had your hands full.   \n",
       "2           3                            That I did. That I did.   \n",
       "3           4       So lets talk a little bit about your duties.   \n",
       "4           5                             My duties?  All right.   \n",
       "...       ...                                                ...   \n",
       "13703    2760  Yeah, I mean, come on Ross, no one will even n...   \n",
       "13704    2761                      They’re not listening too me?   \n",
       "13705    2762  Of course they’re listening to you! Everybody ...   \n",
       "13706    2763  Monica you really think I should try this phas...   \n",
       "13707    2764                             I think you look fine.   \n",
       "\n",
       "               Speaker   Emotion Sentiment  Dialogue_ID  Utterance_ID  Season  \\\n",
       "0             Chandler   neutral   neutral            0             0       8   \n",
       "1      The Interviewer   neutral   neutral            0             1       8   \n",
       "2             Chandler   neutral   neutral            0             2       8   \n",
       "3      The Interviewer   neutral   neutral            0             3       8   \n",
       "4             Chandler  surprise  positive            0             4       8   \n",
       "...                ...       ...       ...          ...           ...     ...   \n",
       "13703           Rachel   neutral   neutral          279            11       6   \n",
       "13704             Ross  surprise  negative          279            12       6   \n",
       "13705           Rachel   neutral   neutral          279            13       6   \n",
       "13706             Ross   neutral   neutral          279            14       6   \n",
       "13707           Monica   neutral   neutral          279            15       6   \n",
       "\n",
       "       Episode     StartTime       EndTime  \n",
       "0           21  00:16:16,059  00:16:21,731  \n",
       "1           21  00:16:21,940  00:16:23,442  \n",
       "2           21  00:16:23,442  00:16:26,389  \n",
       "3           21  00:16:26,820  00:16:29,572  \n",
       "4           21  00:16:34,452  00:16:40,917  \n",
       "...        ...           ...           ...  \n",
       "13703        4  00:14:35,457  00:14:40,211  \n",
       "13704        4  00:14:42,256  00:14:43,840  \n",
       "13705        4  00:14:44,008  00:14:48,511  \n",
       "13706        4  00:14:48,138  00:14:52,390  \n",
       "13707        4  00:14:52,558  00:14:54,183  \n",
       "\n",
       "[13708 rows x 11 columns]"
      ]
     },
     "execution_count": 17,
     "metadata": {},
     "output_type": "execute_result"
    }
   ],
   "source": [
    "raw_df = pd.read_csv(\"raw_data/meld/all_sent_emo.csv\")\n",
    "for i, d in enumerate(raw_df):\n",
    "    text = raw_df.iloc[i]['Utterance']\n",
    "    text_encode = text.encode(\"ascii\", \"ignore\")\n",
    "    text_decode = text_encode.decode()\n",
    "    raw_df.at[i, 'Utterance'] = text_decode\n",
    "raw_df"
   ]
  },
  {
   "cell_type": "code",
   "execution_count": 33,
   "metadata": {},
   "outputs": [
    {
     "name": "stdout",
     "output_type": "stream",
     "text": [
      "['Hey.', 'Hey!', 'Hi.', 'All right, there\\x92s a nuclear holocaust, I\\x92m the last man on Earth. Would you go out with me?', 'Enhh', 'I\\x92ve got canned goods.', 'Hey, you guys! Take a look at this!  Check this baby out, dug me a hole!', 'Excellent hole, Joe.', 'Oh no! No!! My hole!!', 'Ow!! Ow!!!', 'What?! What?!! What is it?!', 'Wow thanks!', 'Joe?', 'Yeah!', 'Uh, you\\x92ve had a lot of sex right?', 'When? Today? Some, not a lot.', 'Well, it\\x92s just the reason that I\\x92m asking is because I kind of eh, uh, I was unable to\\x97I mean I really wanted to, but I couldn\\x92t\\x85.', 'There huh\\x97hmm, there-there was an incident.', 'Don\\x92t worry about that man, that happens.', 'It\\x92s happened to you?', 'Yeah! Once.', 'Well, what\\x92d you do?', 'I did it anyway.', '\\x91Sup? \\x91Sup dude?', 'Take whatever you want, just please don\\x92t hurt me.', 'So you\\x92re playing a little', 'Yes, on a scale from 1 to 10, 10 being the dumbest a person can look, you are definitely 19.', 'Come on man, really how old?!', 'Young! You\\x92re a man-child okay?! Now go get changed because everybody\\x92s ready and please, oh please, keep my underwear!', 'Okay! So, we\\x92ll just stay married.', 'Yes, exactly!', 'And I will make everyone call me Mrs. Geller!', 'Wow! This is so amazing. I uh, I really thought I\\x92d have to talk you into this more.', 'What-wh-what so we\\x92ll just stay married forever?!', 'Okay, look, how is this gonna affect you?', 'Really?', 'I mean you fill some form out once and a while and instead of checking the box that says Ms you check the box that says Mrs.!', 'It\\x92s', 'Ohh, okay, I\\x92m sorry.', 'You\\x92re right.', 'Y\\x92know what?', 'I\\x92m asking you to do me a favor.', 'You are asking me to be your wife!', 'And as my wife I think you should grant me this favor.', 'Oh my God!', \"I know, I know, I'm such an idiot.\", \"My brother's going through that right now, he's such a mess. How did you get through it?\", 'Well, you might try accidentally breaking something valuable of hers, say her-', '-leg?', \"That's one way! Me, I- I went for the watch.\", 'You actually broke her watch?', \"Barry, I'm sorry...\", 'I am so sorry...', \"I know you probably think that this is all about what I said the other day about you making love with your socks on, but it isn't... it isn't, it's about me, and I ju-  Hi, machine cut me off again... anyway...\", 'It can’t be me, I’m standing right here.', 'Wanna peek?', 'No!', 'Come on!', 'We’re not peeking?', 'Well I’m peeking.  Oh my God!', 'Hello sir, you know Monica.', \"You know you probably didn't know this, but back in high school, I had a, um, major crush on you.\", 'I knew.', \"You did! Oh.... I always figured you just thought I was Monica's geeky older brother.\", 'I did.', 'Oh.', 'Listen, do you think- and try not to let my intense vulnerability become any kind of a factor here\\x97but do you think it would be okay if I asked you out?', 'Sometime?', 'Maybe?', 'Yeah, maybe...', 'Okay... okay, maybe I will...', 'Okay, you have 19 questions left. Use them wisely.  Come on Joey! You can\\x92t win if you don\\x92t ask any', 'What?!', 'Well, you promised me a fun road trip!', 'We\\x92ve been on the road six hours and you\\x92ve been asleep for five and a half!', 'We are switching at the next rest stop and', 'All right. All right.', 'Yeah! And until then you are going to sing to me because the radio\\x92s broken and you are selfish but have a nice voice.', 'Really? I don\\x92t', 'Sing!!', 'Morning!', 'Hey, uh, I\\x92m really, really sorry about what happened in the cafeteria today.', 'It\\x92s no big deal. Hey, y\\x92know, you do what you gotta do. Right?', 'But hey, it\\x92s not just me, I mean the scientists and the tour guides', 'Hey, Pheebs?', 'Oh my God, so do I!', 'I knew it, wow!!', 'Wait-wait-wait, wait! Puppies. Cute or ugly?', 'Ohh, so cute.', 'Uh-huh, well! But umm, still I\\x92m-I\\x92m mad at you.', 'I know. I\\x92m mad at me too.', 'Well umm, do you wanna get something to eat? I\\x92m kinda hungry.', 'Hey! Me too!', 'All right, stop it. Now you\\x92re just doing it to freak me out.', 'Well actually uh, there was something we wanted to tell you about the wedding.', 'Uh, tiny!', 'We\\x92re not even sure why we\\x92re having it.', 'How could you pick up a hitchhiker?! He could be a rape\\x97, a rapist or a killer or something!', 'Don\\x92t you think I asked him that before he got in?!', 'Y\\x92know what? I\\x92m not talking to you! You go back to sleep!  And you, are you a rapist?!', 'No!', 'Do you like car games?', 'Yeah, y\\x92know the license plate game?', 'I', 'Ooh, I\\x92ll play! I\\x92ll play!', 'No-No! You need your sleep. Night-night! Shh!', 'Hey uh, is it okay to come in?', 'Of course! Oh Joey, this ring I…it’s beautiful I love it!', 'Yeah uh look Rach, there’s something I gotta tell ya.', 'Hey!', 'Hey! Are you ready to try nursing again?', 'Yeah! Hi Emma. Hey, why do you think she won’t take my  breast?', 'It’s all right honey, it takes some babies a while to get it,  but don’t worry. It’ll happen.', 'Yowza', 'Okay sweetie, you can do it. Just open up and put it in your  mouth.', 'Dear Lord.', 'I’m sorry honey, what were you saying?', 'Oh uh-uh yeah, I think that…', 'Do you think my nipples are  too big for her mouth?', 'She looks scared.', 'Doesn’t she  look scared?', 'Y’know, I don’t really know her.', 'No look, I-I\\x92m sure that people know you exist!', 'Oh yeah?', 'What are you doing?', 'The key\\x92s stuck in the lock.', 'I can fix it. Hold on.  Look out. Look out.', 'It still doesn\\x92t work.', 'I\\x92m your mother.', 'Ehh?', 'Oh, and then Monica joked that she wouldn\\x92t go out with a guy like Chandler...', 'Hi there.', '...and he couldn\\x92t let it go, and... I don\\x92t really know what happened with that either.', 'And then Ross\\x92s new girlfriend, Bonnie, shows up and Rachel convinced her to save her head.', 'And then Ross and Rachel kiss, and now Ross has to choose between Rachel and the bald girl and I don\\x92t know what happened there either...', \"Y'know what, hold on, let me go get Chandler.\", 'Well yeah, I lied before.', 'Oh!', 'Oh God', 'Now you know how you really feel about it.', 'Oh-oh, that\\x92s a risky little game!', 'Are you really gonna do this?', 'Yeah. I\\x92m gonna have a baby. I\\x92m gonna have a baby. I\\x92m gonna have a baby!', 'With who?', 'Ah, it\\x92s still not the time.', 'I just didn\\x92t see the fast song coming.', 'Shh.', 'Shh.', 'Don\\x92t try to talk, we\\x92ll get you up to your room, we\\x92ll soak your feet, you\\x92ll be okay.', 'Oh, thank you.', 'That is so sweet!', 'Yeah.', 'No, I mean it. There are so few genuinely nice guys out there.', 'Tell me about it, I feel like I\\x92m holding down the fort all by myself.', 'It\\x92s Joey right?', 'Yeah.', 'Wait a minute!', 'No!', 'I\\x92m the nice one!', 'I\\x92m the one who danced with the kids all night!', 'How\\x85How small are your feet?', 'Shoot! We\\x92re out of soda.', 'Oh, I\\x92ll go out and get you some.', 'Really?!', 'Nope! Because I\\x92m not your boyfriend.  Hey Pheebs, how did it go?', 'Well, umm, my Mom\\x92s friend, Phoebe, is actually my birth Mom.', 'I found a dried up seashores.', 'Sweety, what are you talking about?', 'Oh, my new Mom, who-who\\x92s a big, fat abandoner!', 'Whoa, wait, Pheebs, wait a second! Don\\x92t you wanna stay here and talk about it?', 'No. I\\x92m just, I wanna, I need to be alone.', 'Monica!', 'Oh.', 'Sure, now I\\x92m scared.', 'No, we can go together! Just don\\x92t wait too long though, okay? \\x91Cause I\\x92m outta here sometime before Friday.', 'Yeah, but I don\\x92t wanna die!', 'No-no, it\\x92ll be fun! We can come back and we can haunt these guys!', 'Oh, look, wish me luck!', 'What for?', \"I'm gonna go get one of those  job things.\", 'Hey, this-  Heyy...', \"Alright, so I'm back in high school, I'm standing in the middle of the cafeteria, and I realize I am totally naked.\", 'Oh, yeah. Had that dream.', \"Then I look down, and I realize there's a phone... there.\", 'Instead of...?', \"That's right.\", 'Never had that dream.', 'No.', 'All of a sudden, the phone starts to ring.', 'That kid really kicked me hard on the plane.', 'Well you did pull his hair.', 'He took my snack!', 'I\\x92m not getting into this again!', 'Okay! Oh God, y\\x92know what? It\\x92s really bad.', 'Well, I told you not to walk. Here.  There. Okay.', 'This doesn\\x92t mean anything, does it?', 'Joey proposed to me.', 'Is he crazy?! You just had Ross’s baby!', 'Well, I-I said yes.', 'What?!', 'Are you crazy?', 'You just had Ross’s baby!', 'It’s-it’s so  inappropriate.', 'No, it’s worse than that.', 'It’s wrong.', 'It’s… It is bigger than  mine!', 'I know.', 'You can’t marry him!', 'Why not? I don’t want to do this alone! And he’s such a sweet  guy and he loves me so much.', 'Well do you love him?', 'Sure.', 'Sure?', 'Yeah, I mean whatever.', 'Honey, the question is…do you really want to marry Joey?', 'No. No, I don’t. Could you be a dear and go tell him?', 'Oh.  Oh-oh.', 'Hey!  What happened to you? Why didn\\x92t you come up?', 'Done!', 'You just finished?', 'Well, I wanted to be thorough.', 'I mean this-this is clearly very, very important to you, to us!', 'And so I wanted to read every word carefully, twice!', 'So umm, does it?', 'I\\x92m sorry.', 'Does it?', 'Does it? Does it? Yeah, I wanted to give that whole \\x91Does it?\\x92 part just another glance.', 'What are you talking about, Ross, you just said that you read it twice!', \"Look, y'know what, either it does or it doesn\\x92t, and if you have to even\", 'No, Rach, no. I don\\x92t, I don\\x92t, I don\\x92t', 'Are you sure?', 'Oh, sure! I\\x92m sure.', 'You wanna do it right now?', 'Great!', \"Ok, I just wanna be really sure this time. Andie McDowell's the girl from\", \"No. No no no no no. That's Rodney McDowell. Andie McDowell is the guy from\", 'Oh, yeah. Ok, thank you.', \"You're welcome.\", 'Hey!', 'Hey!', 'Listen, I know you wanted to talk to me, but I have an idea that may make you want to stay married.  We register, and', 'No!', 'Ross, come on!', 'No!', 'Listen, look I thought a lot about how to tell you this and the bottom line, Ross, is we can not stay married.', 'I don\\x92t know if it\\x92s true.', 'Oh b-b-but it is!', 'Oh, okay, y\\x92know what this is?', 'Oh Ross, come on! This is not, this is not a marriage!! This is the world\\x92s worst hangover! Ross, listen, if', 'All right. All right, I\\x92ll do it.', 'Thank you.  Hey-hey umm, uh, is there, is there any such thing as an annulment shower?', 'We are aware of the problem you are referring to.', 'Hey!', 'Hey, so did everything go all right with the annulment?', 'Oh, yeah, no problems. It\\x92s all taken care of.', 'Ross, thank you. Hey, do you guys wanna go see a movie?', 'Oh yeah, why not?', 'Pheebs?', 'No thanks, I\\x92ve already seen one.', 'Okay, umm, I\\x92m gonna get my sweater.', 'Okay.  You uh, you wanna hear something weird?', 'Always.', 'I didn\\x92t get the annulment.', 'What?!', 'We\\x92re still married! Don\\x92t tell Rachel. See you later.', 'Oh yes! Thank you very much!  Oh that\\x92s-that\\x92s actually how the French drink it.', \"I don't want to be single, okay? I just... I just- I just wanna be married again!\", 'And I just want a million dollars!', 'Rachel?!', 'Y\\x92know, maybe it\\x92s best that we never got to do it again.', 'Yeah, it kinda makes that-that one night special.  Y\\x92know, technically we still', 'I\\x92m gonna go to the bathroom, maybe I\\x92ll see you there in a bit?', '\\x91Kay!', 'Can I ask you something?', 'Uhh, no.', 'Felicity and I, we\\x92re watching', 'No.', 'I mean, the giant is like five years younger than me, y\\x92know, you think I\\x92ll ever get there?', 'Yes.', 'Thanks man.', 'Okay man.', 'But what about how much taller he is than me?', 'I mean, there\\x92s no way I can make myself taller now, y\\x92know?', 'And who knows what science will come up with in the future, but Chandler, what if I die an unsuccessful, regular sized man?', 'Hey, Monica, wow you\\x92ve been in the bathroom for like a half-hour.', 'I know!', 'Had the beef-tips, huh?', 'Why don’t we try massaging the breast to stimulate the flow.', 'Are you kidding me?!', 'It’s just so frustrating! Why doesn’t she want my breast?!', 'I don’t know! Maybe she’s crazy!', 'Now, hold on!', 'Hold on!', 'Look, look, your daughter and I are supposed to leave tonight for our honeymoon, now-now you-you tell her that I\\x92m gonna be at that airport and I hope that she\\x92ll be there too!', 'Oh yeah, I said Rachel\\x92s name, but it didn\\x92t mean anything, Okay?', 'She\\x92s-she\\x92s just a friend and that\\x92s all!', 'That\\x92s all!', 'Now just tell Emily that I love her and that I can\\x92t imagine spending my life with anyone else.', 'Please, promise me that you\\x92ll tell her that.', 'All right, I\\x92ll tell her.  Come on bugger face!', 'Call me.', 'You spend half your life in the bathroom, why don\\x92t you ever go out the bloody window!', 'I can\\x92t believe her, y\\x92know it\\x92s just\\x97it\\x92s so typical.', 'Now Monica, I know you\\x92re upset, but don\\x92t forget.', 'There is going to be a wedding, you are going to throw the bouquet, and', 'Paris?', 'We will take a moonlit walk on the Rue de la .', 'Keep talking.', 'Then we will sprinkle rose pedals on the bed and make love. Not just because it\\x92s romantic, but because I can!', 'I love you!', 'Oh, that is so sweet.', 'No, no, ok, you hang up.', 'Ok, ok, one, two, three.', \"Well you didn't hang up either.\", \"She didn't hang up either...\", 'Ok, no, no, you hang up. You, you, y\\x97', 'No!', 'For all I know, she\\x92s trying to find me but couldn\\x92t because I kept moving around.', 'No, from now on, I\\x92m staying in one place.', 'Right here.', 'Well, it\\x92s getting late.', 'Yeah, we\\x92re gonna go.', 'Actually, do you guys mind staying here for a while?', 'Ugh, y\\x92know, umm we gotta get up early and catch that plane for New York.', 'Yeah, it\\x92s a very large plane.', 'That\\x92s cool.', 'But, we\\x92ll stay here with you.', 'Thanks guys!  I really appreciate this, y\\x92know, but you don\\x92t have to rub my butt.', 'Oh really?!', 'Yeah. Did you tell someone that I was gay?', 'Oh, did you not want people to know that?', 'Oh!  Oh by the way?', 'Uh-hmm.', 'James Brolin?', 'Oh, I know. I could only think of two names, him and Ed Begley Jr. and then I remembered he\\x92s gay.', 'Ed Begley Jr. is not gay.', 'Really?!', 'Yeah, if you get married in Vegas, you\\x92re only married in Vegas.', 'What are you talking about? If you get married in Vegas you\\x92re married everywhere.', 'Really?!', 'Yeah!', 'Oh my God!\\x97Eh! Well', 'Hey!', 'Hi.', 'Are you all right?', 'Uhh… I think I just got engaged.', 'Oh my God! He did it?', 'Well…did you know he was gonna ask me?', 'Are you kidding?', 'I’m like the one who talked him into it.', 'I  like to think of myself as the puppet master of the group.', 'And you really think this is a good idea?', 'I just talked him into it, don’t tell me I have to do you too.  The puppet master gets tired people.', 'I just don’t know! It just doesn’t feel right.', 'Why?! You two are so meant to be together, everybody thinks  so.', 'Really?! Even Ross?', 'Especially Ross!', 'Oh uh, hey Pheebs. Uh y’know what? I’ll-I’ll come  back later.', 'Wow! Kind of uh, kind of a full house here. I’ll guess just…I’ll  come back.', 'There he goes, your fiancée.', 'I guess so.', 'Although he does play with himself in his sleep.', 'I can’t say that I’m surprised.', 'Would she?', 'Would she?  You ate my candy bar!', 'It\\x92s over.', 'Oh, was it awful?', 'Well, it was loong.', 'I didn\\x92t even realise how late it was, until I noticed the 5 o\\x92clock shadow on her head.', 'Anyway, she didn\\x92t want to stay.', 'I called a cab. she just left.', 'I wrote you a letter.', 'Ohh! Thank you! I like mail.', 'It\\x92s just some things I\\x92ve been thinking about.', 'Some things about us, and before we can even think about the two of us getting back together, I just need to know how you feel about this stuff.', 'Okay.  Wow, it\\x92s-it\\x92s 5:30 in the morning.  So, I\\x92d better get cracking on this baby.', 'Well, I\\x92ll be waiting for you, just come up when you\\x92re done.', 'Okay, I\\x92ll be up in,  18 pages. Front and back. Very exciting.', 'Relax every muscle in your body.', 'Listen to the plinky-plunky music.', 'Okay, now close you eyes, and think of a happy place.', 'Okay, tell me your happy place.', \"Richard's living room, drinking wine.\", 'All right. No, no, no, not a Richard thing, just put down the glass. And get out!', \"I'm sorry, but that's my happy place.\", 'Well, okay, fine, use my happy place.', \"Okay, I'm just gonna, I have to ask that you don't move anything.\", \"All right, I'll try not to.\", 'Okay, all right, so, your in a meadow, millions of stars in the sky....', 'Do you think breaking up with him was a huge mistake?', 'All right, there are no questions in the happy place. Okay, just, the warm breeze, and the moonlight flowing through the trees....', \"I'll bet he's totally over me, I'll bet he's fine.\", \"All right, betting and wagering of any kind, are, I'm sure, not permitted in the happy place.\", 'Okay.', 'Just-just, you know, the-the lovely waterfalls, and the, the trickling fountains.', 'And the-the calming sounds of the babbling brook....', \"Okay, this isn't working. I'm still awake and now I have to pee.\", \"All right, that's it, I quit.\", \"What? I didn't say anything.\", \"Yeah, but this  isn't the face of a person who trusts a person.\", \"Ok, this  is the face of a person who, you know, doesn't trust a person.\", \"I'm sorry. I'm sorry, Phoebe. It's just a little shorter than what we had discussed.\", 'Would you relax? I know what I am doing. This is how he wears it.', 'Yeah!', 'I can\\x92t say.', 'Why?!', 'Why not?', 'I can\\x92t say because he\\x92s famous.', 'Oh my God, who is it?!', 'Phoebe, come on, you have to tell us.', 'Okay, okay. It\\x92s James Brolin. James Brolin is the father of my baby.', 'As in Barbara Streisand\\x92s husband James Brolin?', 'What?! Well he never said that to me!', 'Ah! Ah! I forgot my jacket!', 'You tell them to wait!', 'Okay. Wait! Wait!', 'Emily.', 'Oh no-no-no! Oh-no!  No! No! Emily!', 'I\\x92m sorry.', 'Nooo Way! The most romantic song ever is', 'See, I-I think that one that Elton John wrote for, um, that guy on', 'What song was that, Pheebs?', 'Hi Monica!', 'Hey Mon!', 'Hey Mon!', 'Oh my God, has she slept at all?', 'Nope.', \"No, it's been three nights in a row.\", \"Yeah, she finally stopped crying yesterday, but then she found one of Richard's cigar butts out on the terrace, so.\", 'Oh, okay that explains it.', 'I got a call at two in the morning, but all I could hear was, like, this high squeaky sound, so I thought okay its like a mouse or a opossum.', 'But then I realized where would a mouse or a opossum get the money to make the phone call.', 'I know!', 'Yes! Wow, well, that-that was easy. Okay, you-you go.', 'Okay.', 'Okay.', 'Okay, you know, you know when your in bed, with a woman.', 'Hmph.', 'And, ah, you know, your fooling around with her.', 'And you get all these like, mental images in your brain, you know, like Elle MacPherson, or that girl at the Xerox place....', 'With the belly-button ring? Oh, muhawa!', 'I know, And then all of the sudden your Mom pops into your head.', \"And your like 'Mom, get outta here!'\", \"You know, but of course, like, after that you can't possibly think of anything else, and you can't, you know, stop what your doing.\", \"So it's kinda like, you're, you know.\", \"You know.... You don't know!\", 'Your Mom, your telling me, your telling me, about your Mom, what is the matter with you?', 'You said...', \"I said '\", \"Ok, Paulo, why don't you just go get dressed, and then you be on your way, ok, bye-bye.\", 'Rachel, how did this happen?', \"I don't know, I just kinda ran into him last night.\", 'Where?', 'At his apartment. Is this juice?', 'Whoa, whoa. And the fact that you dumped him because he hit on Phoebe?', \"Oh God, I know I'm a pathetic loser.\", 'How is she?', \"It's too soon to tell. She's resting, which is a good sign.\", \"How's the hair?\", \"I'm not gonna lie to you, Ross, it doesn't look good.\", 'I put a clip on one side, which seems to have stopped the curling.', 'Can we see her?', \"Your hair looks too good, I think it would upset her. Ross, why don't you come on in.\", \"How're you doing?\", 'Okay. It\\x92s Emma.', 'I, umm, shut up!', '\\x93Good-bye Phoebe and Ursula. I\\x92ll miss you. P.S. Your Mom lives in Montauk.\\x94 You just wrote this!', 'Well, it\\x92s pretty much the gist. Well, except for the poem. You read the poem, right?', 'Noooo!!', 'All right, hang on!', \"Okay now Joey, y'know that since you're returning all of this stuff right after the audition you're gonna have to wear underwear?\", \"All right, then you'd better show me some of that too then.\", \"Okay, it's missing something. Ooh, I know! Umm, okay.\", 'Really? A purse?', 'So, I hear, you hate me!', 'I, ah, I never said hate, I was very careful about that.', 'A little birdie told me something about you wanting to rip your arm off and throw it at me.', \"And you got a 'hate' from that?! Your taking a big leap there...\", \"All right, fine, fine, fine, fine, fine, we've got to do something about our little situation here Joey.\", 'So, this is my idea: you and me spending some quality time together.', 'But what does that gonna do...', 'For Chandler!', 'Phoebe! Come on! Let\\x92s go!  Come on!  Why aren\\x92t you dressed yet?!', 'I\\x92m sorry, but I just wrote the best dance song for your wedding. Check this out.', 'No, Phoebe, I\\x92ll tell you what, if you get ready now I\\x92ll let you play it at the wedding.', 'Really?!', 'Oh that\\x92s so exciting!', 'Thanks Mon!', 'Oh but Mon, if you touch my guitar again I\\x92ll have to pound on you for a little bit.', 'Fair enough, now go get ready!', 'I\\x92ll get everybody else , finally we can start celebrating my\\x97 I\\x92m sorry, uh apparently I\\x92ve opened the door to the past.', 'Gin.', \"We were playing Gin? Y'know if we were a couple, we could play this game naked.\", 'Will you stop!', 'Okay. All right.', 'Okay, all right, I think you\\x92re great, I think you\\x92re sweet, and you\\x92re smart, and I love you.', 'But you will always be the guy who peed on me.', 'Why?', \"Because I don't work at the Szechwan Dragon.\", 'You really, really need to get some sleep, honey.', 'I know I do.', 'Hi.', 'Hi.', 'Guess what?', 'They published my paper.', 'Oh, really, let me see, let me see.', 'Rach, look!  Oh, hi! Where is my strong Ross Skywalker to come rescue me.  There he is.', 'Honey, I was wondering....', 'Hmm?', 'Do you still have that, um, Navy uniform?', 'Nooo, I had to return it to the costume place.', 'Hmm.', 'I think I have an old band uniform from high school.', 'You remember not having sex in high school, right?', 'Yeah.', 'Well honey, what about you?', 'What?', 'I mean do you have any fun, you know, fantasy type things?', 'No.', 'Come on you gotta have one!', 'Hi!', 'Hi!', 'Rachel was just helping me out. My head got all sunburned.', 'Awww.', 'Thanks a million.', 'Oh, you\\x92re welcome a million.', 'Okay, I\\x92ll see you in our room.', 'Yeah.', 'Oh my God.', 'I know.', 'Okay, I gotta go.', 'Whoa! What?! Why?!', 'Well, I-I gotta go break up with Bonnie.', 'Here?! Now?!', 'Well, yeah.', 'I can\\x92t-I can\\x92t stay here all night, and if I go in there she\\x92s-she\\x92s gonna wanna... do stuff.', 'Soo, ah, Eric, what kind of photography do ya do?', 'Oh, mostly fashion, so there may be models here from time to time, I hope that\\x92s cool.', \"Yes, that is cool. Because I have models here y'know......never.\", 'Oh, yeah, during the summer, I spend most weekends at my sister\\x92s beach house, which you are welcome to use by the way.', 'Although, I should probably tell you, she\\x92s a porn star.', 'The only person that should feel awkward is you, and you didn\\x92t tell him not to call me, did you?', 'Because if you feel uncomfortable with your friend dating someone you work for, there are always ways to fix...that.', 'You still haven’t told Rachel you weren’t really  proposing?', 'No! She had the ring on, she seemed so excited, and then she  took her breast out.', 'Joey, you have to tell her what’s going on! And what did it  look like?!', 'I didn’t look at it. Stupid baby’s head was blocking most of  it.', 'Go and tell Rachel right now before Ross finds out.', 'Look, it’s not that easy. She said she wanted to marry me. I  don’t want to hurt her.', 'Okay, look, just do it gently.', 'You’re right.', 'You’re right.', 'I-I’ll go tell her now before Ross  finds out and I’ll be gentle.', 'I can do that.', 'I am a gentle person.', 'Oh, by the  way.', 'Two people screwing in there  if you want to check that out.', 'Oh and I need to talk to you.', 'About what?', 'To see if know what these guys are talking about.', 'Ohhh!', 'Why are we in bed together?', 'I don\\x92t know. Do-do you have any clothes on?', 'Yeah.', 'Really?!', 'No!', 'But we-we didn\\x92t have\\x85sex-uh, did we?', 'I mean, I don\\x92t remember much about last night, it was such a blur.', 'Oh! I remember laughing! I laughed a lot.', 'And we didn\\x92t have sex.', 'Ohh, I mean, we were really drunk. I\\x92m just glad we didn\\x92t do anything stupid.', 'Tell me about it.', 'What\\x92s that smell?', 'I know!', 'Chandler! It happens to lots of guys! You-you-you were probably tired, you had a lot of champagne, don\\x92t worry about it!', 'I\\x92m not worried, I\\x92m uh, I\\x92m fascinated.', 'Y\\x92know it\\x92s like uh, Biology!', 'Which is funny because in high school I uh, I-I failed Biology and tonight Biology failed me.', 'Check it out. Okay, I can play this when the guests are coming in. Okay.', 'Phoebe!', 'If you would\\x92ve let me finish, it goes on to say that he\\x92s probably not gay.', 'You know, I think I was sixteen.', 'Please, just a little bit off the back.', 'I\\'m still on \"no.\"', 'Uh, morning. Do you guys think you could close your eyes for just a sec?', \"No-no-no-no-no,  I'm not fallin' for that again.\", \"What's goin' on?\", 'Well, I sorta did a stupid thing last night.', 'What stupid thing did you do?', 'Ewww!', 'Oh my God! If you say that one more time,', 'Fine!', 'Fine!', 'But this break-up was not all my fault, and she, she says here,  \\x93If you accept full responsibility...\\x94  Full responsibility!', '\\x93...I can begin to trust you again.', 'Does that seem like something you can do.', 'Does it?!', 'No?', 'Look, Ross, you have what you want, you\\x92re back with Rachel.', 'If you bring this up now you\\x92re gonna wreck the best thing that even happened to you.', 'Yeah, I know.', 'I mean, no, you\\x92re right.', 'Yeah I guess I\\x92ll let it go.', 'But you-you understand how-how hard it is to forget about this.', 'Sure, it\\x92s hard to forget!', 'But that doesn\\x92t mean you have to talk about it!', 'A lot of things happened on that trip that we should never,  ever talk about.', 'What the hell happened on that beach?!', 'It\\x92s between us and the sea, Ross!', \"But we haven't seen each other since then. Well I land in China, guess who's in charge of the dig.\", \"Julie! Julie, isn't that great? I mean, isn't that just kick- you-in-the-crotch, spit-on-your-neck fantastic?\"]\n"
     ]
    }
   ],
   "source": [
    "dialogues = raw_df.groupby('Episode')['Utterance'].apply(list)\n",
    "print(dialogues[1])"
   ]
  },
  {
   "cell_type": "code",
   "execution_count": 18,
   "metadata": {},
   "outputs": [
    {
     "name": "stdout",
     "output_type": "stream",
     "text": [
      "[['i', 'on', 'my'], ['you', 'your'], ['that', 'i', 'did.', 'that', 'i', 'did.'], ['so', 'your', 'duties.'], ['my', 'all'], ['youll', 'be', 'so', 'youll', 'have', 'duties.'], ['i'], ['but', 'be', 'you', 'so', 'you', 'can', 'on'], [], ['can'], ['i'], ['all', 'have', 'you', 'on', 'but', 'i', 'i', 'can'], [], ['you', 'can'], ['my', 'he\\x92s', 'lost', 'it.', 'he\\x92s', 'lost', 'it.'], ['what?'], ['all', 'have', 'on'], ['so', 'can', 'that', 'on', 'can', 'be'], ['what?']]\n"
     ]
    }
   ],
   "source": [
    "from collections import defaultdict\n",
    "\n",
    "stop_list = set('for a of the and to in'.split(' '))\n",
    "texts = [[word for word in document.lower().split() if word not in stop_list]\n",
    "         for document in dialogues[0]]\n",
    "\n",
    "frequency = defaultdict(int)\n",
    "for text in texts:\n",
    "    for token in text:\n",
    "        frequency[token] += 1\n",
    "\n",
    "processed_corpus = [[token for token in text if frequency[token] > 1] \n",
    "                    for text in texts]\n",
    "print(processed_corpus)"
   ]
  },
  {
   "cell_type": "code",
   "execution_count": 19,
   "metadata": {},
   "outputs": [
    {
     "name": "stdout",
     "output_type": "stream",
     "text": [
      "Dictionary<19 unique tokens: ['i', 'my', 'on', 'you', 'your']...>\n"
     ]
    }
   ],
   "source": [
    "from gensim import corpora\n",
    "\n",
    "dictionary = corpora.Dictionary(processed_corpus)\n",
    "print(dictionary)"
   ]
  },
  {
   "cell_type": "code",
   "execution_count": 20,
   "metadata": {},
   "outputs": [
    {
     "name": "stdout",
     "output_type": "stream",
     "text": [
      "{'i': 0, 'my': 1, 'on': 2, 'you': 3, 'your': 4, 'did.': 5, 'that': 6, 'duties.': 7, 'so': 8, 'all': 9, 'be': 10, 'have': 11, 'youll': 12, 'but': 13, 'can': 14, 'he\\x92s': 15, 'it.': 16, 'lost': 17, 'what?': 18}\n"
     ]
    }
   ],
   "source": [
    "print(dictionary.token2id)"
   ]
  },
  {
   "cell_type": "code",
   "execution_count": 21,
   "metadata": {},
   "outputs": [
    {
     "name": "stdout",
     "output_type": "stream",
     "text": [
      "[[(0, 1), (1, 1), (2, 1)], [(3, 1), (4, 1)], [(0, 2), (5, 2), (6, 2)], [(4, 1), (7, 1), (8, 1)], [(1, 1), (9, 1)], [(7, 1), (8, 1), (10, 1), (11, 1), (12, 2)], [(0, 1)], [(2, 1), (3, 2), (8, 1), (10, 1), (13, 1), (14, 1)], [], [(14, 1)], [(0, 1)], [(0, 2), (2, 1), (3, 1), (9, 1), (11, 1), (13, 1), (14, 1)], [], [(3, 1), (14, 1)], [(1, 1), (15, 2), (16, 2), (17, 2)], [(18, 1)], [(2, 1), (9, 1), (11, 1)], [(2, 1), (6, 1), (8, 1), (10, 1), (14, 2)], [(18, 1)]]\n"
     ]
    }
   ],
   "source": [
    "bow_corpus = [dictionary.doc2bow(text) for text in processed_corpus]\n",
    "print(bow_corpus)"
   ]
  },
  {
   "cell_type": "code",
   "execution_count": null,
   "metadata": {},
   "outputs": [],
   "source": [
    "from gensim import models\n",
    "\n",
    "tfidf = models.TfidfModel(bow_corpus)\n",
    "# words = "
   ]
  },
  {
   "cell_type": "code",
   "execution_count": 34,
   "metadata": {},
   "outputs": [
    {
     "name": "stdout",
     "output_type": "stream",
     "text": [
      "Hey. Hey! Hi. All right, theres a nuclear holocaust, Im the last man on Earth. Would you go out with me? Enhh Ive got canned goods. Hey, you guys! Take a look at this!  Check this baby out, dug me a hole! Excellent hole, Joe. Oh no! No!! My hole!! Ow!! Ow!!! What?! What?!! What is it?! Wow thanks! Joe? Yeah! Uh, youve had a lot of sex right? When? Today? Some, not a lot. Well, its just the reason that Im asking is because I kind of eh, uh, I was unable toI mean I really wanted to, but I couldnt. There huhhmm, there-there was an incident. Dont worry about that man, that happens. Its happened to you? Yeah! Once. Well, whatd you do? I did it anyway. Sup? Sup dude? Take whatever you want, just please dont hurt me. So youre playing a little Yes, on a scale from 1 to 10, 10 being the dumbest a person can look, you are definitely 19. Come on man, really how old?! Young! Youre a man-child okay?! Now go get changed because everybodys ready and please, oh please, keep my underwear! Okay! So, well just stay married. Yes, exactly! And I will make everyone call me Mrs. Geller! Wow! This is so amazing. I uh, I really thought Id have to talk you into this more. What-wh-what so well just stay married forever?! Okay, look, how is this gonna affect you? Really? I mean you fill some form out once and a while and instead of checking the box that says Ms you check the box that says Mrs.! Its Ohh, okay, Im sorry. Youre right. Yknow what? Im asking you to do me a favor. You are asking me to be your wife! And as my wife I think you should grant me this favor. Oh my God! I know, I know, I'm such an idiot. My brother's going through that right now, he's such a mess. How did you get through it? Well, you might try accidentally breaking something valuable of hers, say her- -leg? That's one way! Me, I- I went for the watch. You actually broke her watch? Barry, I'm sorry... I am so sorry... I know you probably think that this is all about what I said the other day about you making love with your socks on, but it isn't... it isn't, it's about me, and I ju-  Hi, machine cut me off again... anyway... It can’t be me, I’m standing right here. Wanna peek? No! Come on! We’re not peeking? Well I’m peeking.  Oh my God! Hello sir, you know Monica. You know you probably didn't know this, but back in high school, I had a, um, major crush on you. I knew. You did! Oh.... I always figured you just thought I was Monica's geeky older brother. I did. Oh. Listen, do you think- and try not to let my intense vulnerability become any kind of a factor herebut do you think it would be okay if I asked you out? Sometime? Maybe? Yeah, maybe... Okay... okay, maybe I will... Okay, you have 19 questions left. Use them wisely.  Come on Joey! You cant win if you dont ask any What?! Well, you promised me a fun road trip! Weve been on the road six hours and youve been asleep for five and a half! We are switching at the next rest stop and All right. All right. Yeah! And until then you are going to sing to me because the radios broken and you are selfish but have a nice voice. Really? I dont Sing!! Morning! Hey, uh, Im really, really sorry about what happened in the cafeteria today. Its no big deal. Hey, yknow, you do what you gotta do. Right? But hey, its not just me, I mean the scientists and the tour guides Hey, Pheebs? Oh my God, so do I! I knew it, wow!! Wait-wait-wait, wait! Puppies. Cute or ugly? Ohh, so cute. Uh-huh, well! But umm, still Im-Im mad at you. I know. Im mad at me too. Well umm, do you wanna get something to eat? Im kinda hungry. Hey! Me too! All right, stop it. Now youre just doing it to freak me out. Well actually uh, there was something we wanted to tell you about the wedding. Uh, tiny! Were not even sure why were having it. How could you pick up a hitchhiker?! He could be a rape, a rapist or a killer or something! Dont you think I asked him that before he got in?! Yknow what? Im not talking to you! You go back to sleep!  And you, are you a rapist?! No! Do you like car games? Yeah, yknow the license plate game? I Ooh, Ill play! Ill play! No-No! You need your sleep. Night-night! Shh! Hey uh, is it okay to come in? Of course! Oh Joey, this ring I…it’s beautiful I love it! Yeah uh look Rach, there’s something I gotta tell ya. Hey! Hey! Are you ready to try nursing again? Yeah! Hi Emma. Hey, why do you think she won’t take my  breast? It’s all right honey, it takes some babies a while to get it,  but don’t worry. It’ll happen. Yowza Okay sweetie, you can do it. Just open up and put it in your  mouth. Dear Lord. I’m sorry honey, what were you saying? Oh uh-uh yeah, I think that… Do you think my nipples are  too big for her mouth? She looks scared. Doesn’t she  look scared? Y’know, I don’t really know her. No look, I-Im sure that people know you exist! Oh yeah? What are you doing? The keys stuck in the lock. I can fix it. Hold on.  Look out. Look out. It still doesnt work. Im your mother. Ehh? Oh, and then Monica joked that she wouldnt go out with a guy like Chandler... Hi there. ...and he couldnt let it go, and... I dont really know what happened with that either. And then Rosss new girlfriend, Bonnie, shows up and Rachel convinced her to save her head. And then Ross and Rachel kiss, and now Ross has to choose between Rachel and the bald girl and I dont know what happened there either... Y'know what, hold on, let me go get Chandler. Well yeah, I lied before. Oh! Oh God Now you know how you really feel about it. Oh-oh, thats a risky little game! Are you really gonna do this? Yeah. Im gonna have a baby. Im gonna have a baby. Im gonna have a baby! With who? Ah, its still not the time. I just didnt see the fast song coming. Shh. Shh. Dont try to talk, well get you up to your room, well soak your feet, youll be okay. Oh, thank you. That is so sweet! Yeah. No, I mean it. There are so few genuinely nice guys out there. Tell me about it, I feel like Im holding down the fort all by myself. Its Joey right? Yeah. Wait a minute! No! Im the nice one! Im the one who danced with the kids all night! HowHow small are your feet? Shoot! Were out of soda. Oh, Ill go out and get you some. Really?! Nope! Because Im not your boyfriend.  Hey Pheebs, how did it go? Well, umm, my Moms friend, Phoebe, is actually my birth Mom. I found a dried up seashores. Sweety, what are you talking about? Oh, my new Mom, who-whos a big, fat abandoner! Whoa, wait, Pheebs, wait a second! Dont you wanna stay here and talk about it? No. Im just, I wanna, I need to be alone. Monica! Oh. Sure, now Im scared. No, we can go together! Just dont wait too long though, okay? Cause Im outta here sometime before Friday. Yeah, but I dont wanna die! No-no, itll be fun! We can come back and we can haunt these guys! Oh, look, wish me luck! What for? I'm gonna go get one of those  job things. Hey, this-  Heyy... Alright, so I'm back in high school, I'm standing in the middle of the cafeteria, and I realize I am totally naked. Oh, yeah. Had that dream. Then I look down, and I realize there's a phone... there. Instead of...? That's right. Never had that dream. No. All of a sudden, the phone starts to ring. That kid really kicked me hard on the plane. Well you did pull his hair. He took my snack! Im not getting into this again! Okay! Oh God, yknow what? Its really bad. Well, I told you not to walk. Here.  There. Okay. This doesnt mean anything, does it? Joey proposed to me. Is he crazy?! You just had Ross’s baby! Well, I-I said yes. What?! Are you crazy? You just had Ross’s baby! It’s-it’s so  inappropriate. No, it’s worse than that. It’s wrong. It’s… It is bigger than  mine! I know. You can’t marry him! Why not? I don’t want to do this alone! And he’s such a sweet  guy and he loves me so much. Well do you love him? Sure. Sure? Yeah, I mean whatever. Honey, the question is…do you really want to marry Joey? No. No, I don’t. Could you be a dear and go tell him? Oh.  Oh-oh. Hey!  What happened to you? Why didnt you come up? Done! You just finished? Well, I wanted to be thorough. I mean this-this is clearly very, very important to you, to us! And so I wanted to read every word carefully, twice! So umm, does it? Im sorry. Does it? Does it? Does it? Yeah, I wanted to give that whole Does it? part just another glance. What are you talking about, Ross, you just said that you read it twice! Look, y'know what, either it does or it doesnt, and if you have to even No, Rach, no. I dont, I dont, I dont Are you sure? Oh, sure! Im sure. You wanna do it right now? Great! Ok, I just wanna be really sure this time. Andie McDowell's the girl from No. No no no no no. That's Rodney McDowell. Andie McDowell is the guy from Oh, yeah. Ok, thank you. You're welcome. Hey! Hey! Listen, I know you wanted to talk to me, but I have an idea that may make you want to stay married.  We register, and No! Ross, come on! No! Listen, look I thought a lot about how to tell you this and the bottom line, Ross, is we can not stay married. I dont know if its true. Oh b-b-but it is! Oh, okay, yknow what this is? Oh Ross, come on! This is not, this is not a marriage!! This is the worlds worst hangover! Ross, listen, if All right. All right, Ill do it. Thank you.  Hey-hey umm, uh, is there, is there any such thing as an annulment shower? We are aware of the problem you are referring to. Hey! Hey, so did everything go all right with the annulment? Oh, yeah, no problems. Its all taken care of. Ross, thank you. Hey, do you guys wanna go see a movie? Oh yeah, why not? Pheebs? No thanks, Ive already seen one. Okay, umm, Im gonna get my sweater. Okay.  You uh, you wanna hear something weird? Always. I didnt get the annulment. What?! Were still married! Dont tell Rachel. See you later. Oh yes! Thank you very much!  Oh thats-thats actually how the French drink it. I don't want to be single, okay? I just... I just- I just wanna be married again! And I just want a million dollars! Rachel?! Yknow, maybe its best that we never got to do it again. Yeah, it kinda makes that-that one night special.  Yknow, technically we still Im gonna go to the bathroom, maybe Ill see you there in a bit? Kay! Can I ask you something? Uhh, no. Felicity and I, were watching No. I mean, the giant is like five years younger than me, yknow, you think Ill ever get there? Yes. Thanks man. Okay man. But what about how much taller he is than me? I mean, theres no way I can make myself taller now, yknow? And who knows what science will come up with in the future, but Chandler, what if I die an unsuccessful, regular sized man? Hey, Monica, wow youve been in the bathroom for like a half-hour. I know! Had the beef-tips, huh? Why don’t we try massaging the breast to stimulate the flow. Are you kidding me?! It’s just so frustrating! Why doesn’t she want my breast?! I don’t know! Maybe she’s crazy! Now, hold on! Hold on! Look, look, your daughter and I are supposed to leave tonight for our honeymoon, now-now you-you tell her that Im gonna be at that airport and I hope that shell be there too! Oh yeah, I said Rachels name, but it didnt mean anything, Okay? Shes-shes just a friend and thats all! Thats all! Now just tell Emily that I love her and that I cant imagine spending my life with anyone else. Please, promise me that youll tell her that. All right, Ill tell her.  Come on bugger face! Call me. You spend half your life in the bathroom, why dont you ever go out the bloody window! I cant believe her, yknow its justits so typical. Now Monica, I know youre upset, but dont forget. There is going to be a wedding, you are going to throw the bouquet, and Paris? We will take a moonlit walk on the Rue de la . Keep talking. Then we will sprinkle rose pedals on the bed and make love. Not just because its romantic, but because I can! I love you! Oh, that is so sweet. No, no, ok, you hang up. Ok, ok, one, two, three. Well you didn't hang up either. She didn't hang up either... Ok, no, no, you hang up. You, you, y No! For all I know, shes trying to find me but couldnt because I kept moving around. No, from now on, Im staying in one place. Right here. Well, its getting late. Yeah, were gonna go. Actually, do you guys mind staying here for a while? Ugh, yknow, umm we gotta get up early and catch that plane for New York. Yeah, its a very large plane. Thats cool. But, well stay here with you. Thanks guys!  I really appreciate this, yknow, but you dont have to rub my butt. Oh really?! Yeah. Did you tell someone that I was gay? Oh, did you not want people to know that? Oh!  Oh by the way? Uh-hmm. James Brolin? Oh, I know. I could only think of two names, him and Ed Begley Jr. and then I remembered hes gay. Ed Begley Jr. is not gay. Really?! Yeah, if you get married in Vegas, youre only married in Vegas. What are you talking about? If you get married in Vegas youre married everywhere. Really?! Yeah! Oh my God!Eh! Well Hey! Hi. Are you all right? Uhh… I think I just got engaged. Oh my God! He did it? Well…did you know he was gonna ask me? Are you kidding? I’m like the one who talked him into it. I  like to think of myself as the puppet master of the group. And you really think this is a good idea? I just talked him into it, don’t tell me I have to do you too.  The puppet master gets tired people. I just don’t know! It just doesn’t feel right. Why?! You two are so meant to be together, everybody thinks  so. Really?! Even Ross? Especially Ross! Oh uh, hey Pheebs. Uh y’know what? I’ll-I’ll come  back later. Wow! Kind of uh, kind of a full house here. I’ll guess just…I’ll  come back. There he goes, your fiancée. I guess so. Although he does play with himself in his sleep. I can’t say that I’m surprised. Would she? Would she?  You ate my candy bar! Its over. Oh, was it awful? Well, it was loong. I didnt even realise how late it was, until I noticed the 5 oclock shadow on her head. Anyway, she didnt want to stay. I called a cab. she just left. I wrote you a letter. Ohh! Thank you! I like mail. Its just some things Ive been thinking about. Some things about us, and before we can even think about the two of us getting back together, I just need to know how you feel about this stuff. Okay.  Wow, its-its 5:30 in the morning.  So, Id better get cracking on this baby. Well, Ill be waiting for you, just come up when youre done. Okay, Ill be up in,  18 pages. Front and back. Very exciting. Relax every muscle in your body. Listen to the plinky-plunky music. Okay, now close you eyes, and think of a happy place. Okay, tell me your happy place. Richard's living room, drinking wine. All right. No, no, no, not a Richard thing, just put down the glass. And get out! I'm sorry, but that's my happy place. Well, okay, fine, use my happy place. Okay, I'm just gonna, I have to ask that you don't move anything. All right, I'll try not to. Okay, all right, so, your in a meadow, millions of stars in the sky.... Do you think breaking up with him was a huge mistake? All right, there are no questions in the happy place. Okay, just, the warm breeze, and the moonlight flowing through the trees.... I'll bet he's totally over me, I'll bet he's fine. All right, betting and wagering of any kind, are, I'm sure, not permitted in the happy place. Okay. Just-just, you know, the-the lovely waterfalls, and the, the trickling fountains. And the-the calming sounds of the babbling brook.... Okay, this isn't working. I'm still awake and now I have to pee. All right, that's it, I quit. What? I didn't say anything. Yeah, but this  isn't the face of a person who trusts a person. Ok, this  is the face of a person who, you know, doesn't trust a person. I'm sorry. I'm sorry, Phoebe. It's just a little shorter than what we had discussed. Would you relax? I know what I am doing. This is how he wears it. Yeah! I cant say. Why?! Why not? I cant say because hes famous. Oh my God, who is it?! Phoebe, come on, you have to tell us. Okay, okay. Its James Brolin. James Brolin is the father of my baby. As in Barbara Streisands husband James Brolin? What?! Well he never said that to me! Ah! Ah! I forgot my jacket! You tell them to wait! Okay. Wait! Wait! Emily. Oh no-no-no! Oh-no!  No! No! Emily! Im sorry. Nooo Way! The most romantic song ever is See, I-I think that one that Elton John wrote for, um, that guy on What song was that, Pheebs? Hi Monica! Hey Mon! Hey Mon! Oh my God, has she slept at all? Nope. No, it's been three nights in a row. Yeah, she finally stopped crying yesterday, but then she found one of Richard's cigar butts out on the terrace, so. Oh, okay that explains it. I got a call at two in the morning, but all I could hear was, like, this high squeaky sound, so I thought okay its like a mouse or a opossum. But then I realized where would a mouse or a opossum get the money to make the phone call. I know! Yes! Wow, well, that-that was easy. Okay, you-you go. Okay. Okay. Okay, you know, you know when your in bed, with a woman. Hmph. And, ah, you know, your fooling around with her. And you get all these like, mental images in your brain, you know, like Elle MacPherson, or that girl at the Xerox place.... With the belly-button ring? Oh, muhawa! I know, And then all of the sudden your Mom pops into your head. And your like 'Mom, get outta here!' You know, but of course, like, after that you can't possibly think of anything else, and you can't, you know, stop what your doing. So it's kinda like, you're, you know. You know.... You don't know! Your Mom, your telling me, your telling me, about your Mom, what is the matter with you? You said... I said ' Ok, Paulo, why don't you just go get dressed, and then you be on your way, ok, bye-bye. Rachel, how did this happen? I don't know, I just kinda ran into him last night. Where? At his apartment. Is this juice? Whoa, whoa. And the fact that you dumped him because he hit on Phoebe? Oh God, I know I'm a pathetic loser. How is she? It's too soon to tell. She's resting, which is a good sign. How's the hair? I'm not gonna lie to you, Ross, it doesn't look good. I put a clip on one side, which seems to have stopped the curling. Can we see her? Your hair looks too good, I think it would upset her. Ross, why don't you come on in. How're you doing? Okay. Its Emma. I, umm, shut up! Good-bye Phoebe and Ursula. Ill miss you. P.S. Your Mom lives in Montauk. You just wrote this! Well, its pretty much the gist. Well, except for the poem. You read the poem, right? Noooo!! All right, hang on! Okay now Joey, y'know that since you're returning all of this stuff right after the audition you're gonna have to wear underwear? All right, then you'd better show me some of that too then. Okay, it's missing something. Ooh, I know! Umm, okay. Really? A purse? So, I hear, you hate me! I, ah, I never said hate, I was very careful about that. A little birdie told me something about you wanting to rip your arm off and throw it at me. And you got a 'hate' from that?! Your taking a big leap there... All right, fine, fine, fine, fine, fine, we've got to do something about our little situation here Joey. So, this is my idea: you and me spending some quality time together. But what does that gonna do... For Chandler! Phoebe! Come on! Lets go!  Come on!  Why arent you dressed yet?! Im sorry, but I just wrote the best dance song for your wedding. Check this out. No, Phoebe, Ill tell you what, if you get ready now Ill let you play it at the wedding. Really?! Oh thats so exciting! Thanks Mon! Oh but Mon, if you touch my guitar again Ill have to pound on you for a little bit. Fair enough, now go get ready! Ill get everybody else , finally we can start celebrating my Im sorry, uh apparently Ive opened the door to the past. Gin. We were playing Gin? Y'know if we were a couple, we could play this game naked. Will you stop! Okay. All right. Okay, all right, I think youre great, I think youre sweet, and youre smart, and I love you. But you will always be the guy who peed on me. Why? Because I don't work at the Szechwan Dragon. You really, really need to get some sleep, honey. I know I do. Hi. Hi. Guess what? They published my paper. Oh, really, let me see, let me see. Rach, look!  Oh, hi! Where is my strong Ross Skywalker to come rescue me.  There he is. Honey, I was wondering.... Hmm? Do you still have that, um, Navy uniform? Nooo, I had to return it to the costume place. Hmm. I think I have an old band uniform from high school. You remember not having sex in high school, right? Yeah. Well honey, what about you? What? I mean do you have any fun, you know, fantasy type things? No. Come on you gotta have one! Hi! Hi! Rachel was just helping me out. My head got all sunburned. Awww. Thanks a million. Oh, youre welcome a million. Okay, Ill see you in our room. Yeah. Oh my God. I know. Okay, I gotta go. Whoa! What?! Why?! Well, I-I gotta go break up with Bonnie. Here?! Now?! Well, yeah. I cant-I cant stay here all night, and if I go in there shes-shes gonna wanna... do stuff. Soo, ah, Eric, what kind of photography do ya do? Oh, mostly fashion, so there may be models here from time to time, I hope thats cool. Yes, that is cool. Because I have models here y'know......never. Oh, yeah, during the summer, I spend most weekends at my sisters beach house, which you are welcome to use by the way. Although, I should probably tell you, shes a porn star. The only person that should feel awkward is you, and you didnt tell him not to call me, did you? Because if you feel uncomfortable with your friend dating someone you work for, there are always ways to fix...that. You still haven’t told Rachel you weren’t really  proposing? No! She had the ring on, she seemed so excited, and then she  took her breast out. Joey, you have to tell her what’s going on! And what did it  look like?! I didn’t look at it. Stupid baby’s head was blocking most of  it. Go and tell Rachel right now before Ross finds out. Look, it’s not that easy. She said she wanted to marry me. I  don’t want to hurt her. Okay, look, just do it gently. You’re right. You’re right. I-I’ll go tell her now before Ross  finds out and I’ll be gentle. I can do that. I am a gentle person. Oh, by the  way. Two people screwing in there  if you want to check that out. Oh and I need to talk to you. About what? To see if know what these guys are talking about. Ohhh! Why are we in bed together? I dont know. Do-do you have any clothes on? Yeah. Really?! No! But we-we didnt havesex-uh, did we? I mean, I dont remember much about last night, it was such a blur. Oh! I remember laughing! I laughed a lot. And we didnt have sex. Ohh, I mean, we were really drunk. Im just glad we didnt do anything stupid. Tell me about it. Whats that smell? I know! Chandler! It happens to lots of guys! You-you-you were probably tired, you had a lot of champagne, dont worry about it! Im not worried, Im uh, Im fascinated. Yknow its like uh, Biology! Which is funny because in high school I uh, I-I failed Biology and tonight Biology failed me. Check it out. Okay, I can play this when the guests are coming in. Okay. Phoebe! If you wouldve let me finish, it goes on to say that hes probably not gay. You know, I think I was sixteen. Please, just a little bit off the back. I'm still on \"no.\" Uh, morning. Do you guys think you could close your eyes for just a sec? No-no-no-no-no,  I'm not fallin' for that again. What's goin' on? Well, I sorta did a stupid thing last night. What stupid thing did you do? Ewww! Oh my God! If you say that one more time, Fine! Fine! But this break-up was not all my fault, and she, she says here,  If you accept full responsibility...  Full responsibility! ...I can begin to trust you again. Does that seem like something you can do. Does it?! No? Look, Ross, you have what you want, youre back with Rachel. If you bring this up now youre gonna wreck the best thing that even happened to you. Yeah, I know. I mean, no, youre right. Yeah I guess Ill let it go. But you-you understand how-how hard it is to forget about this. Sure, its hard to forget! But that doesnt mean you have to talk about it! A lot of things happened on that trip that we should never,  ever talk about. What the hell happened on that beach?! Its between us and the sea, Ross! But we haven't seen each other since then. Well I land in China, guess who's in charge of the dig. Julie! Julie, isn't that great? I mean, isn't that just kick- you-in-the-crotch, spit-on-your-neck fantastic?\n"
     ]
    }
   ],
   "source": [
    "para = \" \".join(dialogues[1])\n",
    "print(para)"
   ]
  },
  {
   "cell_type": "code",
   "execution_count": 23,
   "metadata": {},
   "outputs": [
    {
     "name": "stdout",
     "output_type": "stream",
     "text": [
      "Collecting git+https://github.com/LIAAD/yake\n",
      "  Cloning https://github.com/LIAAD/yake to c:\\users\\admin\\appdata\\local\\temp\\pip-req-build-93894z_3\n",
      "  Resolved https://github.com/LIAAD/yake to commit 374fc1c1c19eb080d5b6115cbb8d4a4324392e54\n",
      "  Preparing metadata (setup.py): started\n",
      "  Preparing metadata (setup.py): finished with status 'done'\n",
      "Requirement already satisfied: tabulate in c:\\users\\admin\\anaconda3\\lib\\site-packages (from yake==0.4.8) (0.8.10)\n",
      "Requirement already satisfied: click>=6.0 in c:\\users\\admin\\anaconda3\\lib\\site-packages (from yake==0.4.8) (8.0.4)\n",
      "Requirement already satisfied: numpy in c:\\users\\admin\\anaconda3\\lib\\site-packages (from yake==0.4.8) (1.23.5)\n",
      "Collecting segtok\n",
      "  Downloading segtok-1.5.11-py3-none-any.whl (24 kB)\n",
      "Requirement already satisfied: networkx in c:\\users\\admin\\anaconda3\\lib\\site-packages (from yake==0.4.8) (2.8.4)\n",
      "Requirement already satisfied: jellyfish in c:\\users\\admin\\anaconda3\\lib\\site-packages (from yake==0.4.8) (0.9.0)\n",
      "Requirement already satisfied: colorama in c:\\users\\admin\\appdata\\roaming\\python\\python310\\site-packages (from click>=6.0->yake==0.4.8) (0.4.6)\n",
      "Requirement already satisfied: regex in c:\\users\\admin\\anaconda3\\lib\\site-packages (from segtok->yake==0.4.8) (2022.7.9)\n",
      "Building wheels for collected packages: yake\n",
      "  Building wheel for yake (setup.py): started\n",
      "  Building wheel for yake (setup.py): finished with status 'done'\n",
      "  Created wheel for yake: filename=yake-0.4.8-py2.py3-none-any.whl size=62865 sha256=2a8698581cd0a32cdb967481eff8d618bca2a270aa123e17115964504daecbf4\n",
      "  Stored in directory: C:\\Users\\Admin\\AppData\\Local\\Temp\\pip-ephem-wheel-cache-i9dkhfld\\wheels\\10\\9d\\33\\6a3358fd876c3d7c6c5c139d1496eb4b1618c7d0e15c375584\n",
      "Successfully built yake\n",
      "Installing collected packages: segtok, yake\n",
      "Successfully installed segtok-1.5.11 yake-0.4.8\n",
      "Note: you may need to restart the kernel to use updated packages.\n"
     ]
    },
    {
     "name": "stderr",
     "output_type": "stream",
     "text": [
      "  Running command git clone --filter=blob:none --quiet https://github.com/LIAAD/yake 'C:\\Users\\Admin\\AppData\\Local\\Temp\\pip-req-build-93894z_3'\n"
     ]
    }
   ],
   "source": [
    "%pip install git+https://github.com/LIAAD/yake"
   ]
  },
  {
   "cell_type": "code",
   "execution_count": 39,
   "metadata": {},
   "outputs": [
    {
     "name": "stdout",
     "output_type": "stream",
     "text": [
      "Keyphrase:  Yeah : score 0.006870266867028622\n",
      "Keyphrase:  Ross : score 0.010038869945559536\n",
      "Keyphrase:  Hey : score 0.01120668041920957\n",
      "Keyphrase:  Don : score 0.012826924493724592\n",
      "Keyphrase:  n’t : score 0.018138955895118714\n",
      "Keyphrase:  God : score 0.02050549875948391\n",
      "Keyphrase:  gonna : score 0.021778542175718348\n",
      "Keyphrase:  Rachel : score 0.02754476560215005\n",
      "Keyphrase:  Mom : score 0.03951587175798503\n",
      "Keyphrase:  Wanna : score 0.04195156917350217\n",
      "Keyphrase:  Joey : score 0.04268628037231713\n",
      "Keyphrase:  guys : score 0.04648389869647888\n",
      "Keyphrase:  Phoebe : score 0.047600804433816576\n",
      "Keyphrase:  didn : score 0.04805091468113361\n",
      "Keyphrase:  married : score 0.04810648920553738\n",
      "Keyphrase:  Monica : score 0.048874361622225554\n",
      "Keyphrase:  back : score 0.04952723745593405\n",
      "Keyphrase:  fine : score 0.05284091299538306\n",
      "Keyphrase:  place : score 0.05562872998578152\n",
      "Keyphrase:  baby : score 0.05594697342568458\n"
     ]
    }
   ],
   "source": [
    "import yake\n",
    "kw_extractor = yake.KeywordExtractor(n = 3, dedupLim = 0.9,  dedupFunc = 'seqm',  top = 20)\n",
    "keywords = kw_extractor.extract_keywords(para)\n",
    "for kw, v in keywords:\n",
    "    print(\"Keyphrase: \", kw, \": score\", v)"
   ]
  },
  {
   "cell_type": "code",
   "execution_count": null,
   "metadata": {},
   "outputs": [],
   "source": []
  }
 ],
 "metadata": {
  "kernelspec": {
   "display_name": "base",
   "language": "python",
   "name": "python3"
  },
  "language_info": {
   "codemirror_mode": {
    "name": "ipython",
    "version": 3
   },
   "file_extension": ".py",
   "mimetype": "text/x-python",
   "name": "python",
   "nbconvert_exporter": "python",
   "pygments_lexer": "ipython3",
   "version": "3.10.9"
  },
  "orig_nbformat": 4
 },
 "nbformat": 4,
 "nbformat_minor": 2
}
